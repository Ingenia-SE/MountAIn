{
 "cells": [
  {
   "cell_type": "code",
   "execution_count": 1,
   "metadata": {},
   "outputs": [
    {
     "name": "stdout",
     "output_type": "stream",
     "text": [
      "[(0, 0, 0), (0, 0, 1), (0, 0, 2), (0, 1, 0), (0, 1, 1), (0, 1, 2), (0, 2, 0), (0, 2, 1), (0, 2, 2), (1, 0, 0), (1, 0, 1), (1, 0, 2), (1, 1, 0), (1, 1, 1), (1, 1, 2), (1, 2, 0), (1, 2, 1), (1, 2, 2), (2, 0, 0), (2, 0, 1), (2, 0, 2), (2, 1, 0), (2, 1, 1), (2, 1, 2), (2, 2, 0), (2, 2, 1), (2, 2, 2)]\n",
      "[(0, 0, 0, 365), (0, 0, 1, 365), (0, 0, 2, 365), (0, 1, 0, 365), (0, 1, 1, 365), (0, 1, 2, 365), (0, 2, 0, 365), (0, 2, 1, 365), (0, 2, 2, 365), (1, 0, 0, 365), (1, 0, 1, 365), (1, 0, 2, 365), (1, 1, 0, 365), (1, 1, 1, 365), (1, 1, 2, 365), (1, 2, 0, 365), (1, 2, 1, 365), (1, 2, 2, 365), (2, 0, 0, 365), (2, 0, 1, 365), (2, 0, 2, 365), (2, 1, 0, 365), (2, 1, 1, 365), (2, 1, 2, 365), (2, 2, 0, 365), (2, 2, 1, 365), (2, 2, 2, 365)]\n"
     ]
    }
   ],
   "source": [
    "\n",
    "### Import Packages ###\n",
    "import pandas as pd\n",
    "import itertools\n",
    "import statsmodels.api as sm\n",
    "\n",
    "### Define Parameter Ranges to Test ###\n",
    "\n",
    "# Note: higher numbers will result in code taking much longer to run\n",
    "# Here we have it set to test p,d,q each = 0, 1 & 2\n",
    "\n",
    "# Define the p, d and q parameters to take any value between 0 and 3 (exclusive)\n",
    "p = d = q = range(0, 3)\n",
    "\n",
    "# Generate all different combinations of p, d and q triplets\n",
    "pdq = list(itertools.product(p, d, q))\n",
    "\n",
    "# Generate all different combinations of seasonal p, q and q triplets\n",
    "# Note: here we have 12 in the 's' position as we have monthly data\n",
    "# You'll want to change this according to your time series' frequency\n",
    "pdqs = [(x[0], x[1], x[2], 365) for x in list(itertools.product(p, d, q))]\n",
    "\n",
    "### Run Grid Search ###\n",
    "industriales = pd.read_csv('Industriales.csv', header=0, squeeze=True)\n",
    "\n",
    "\n",
    "ts= industriales[['Dia', 'ConsumoDia']]\n",
    "ts=ts.set_index('Dia')\n",
    "ts.head(10)\n",
    "print (pdq)\n",
    "print (pdqs)"
   ]
  },
  {
   "cell_type": "code",
   "execution_count": null,
   "metadata": {},
   "outputs": [
    {
     "name": "stdout",
     "output_type": "stream",
     "text": [
      "SARIMAX (0, 0, 0) x (0, 0, 0, 365)12 : BIC Calculated =24940.774054216155\n"
     ]
    },
    {
     "name": "stderr",
     "output_type": "stream",
     "text": [
      "C:\\Users\\irene\\anaconda3\\lib\\site-packages\\statsmodels\\tsa\\base\\tsa_model.py:524: ValueWarning: No frequency information was provided, so inferred frequency D will be used.\n",
      "  warnings.warn('No frequency information was'\n",
      "C:\\Users\\irene\\anaconda3\\lib\\site-packages\\statsmodels\\tsa\\base\\tsa_model.py:524: ValueWarning: No frequency information was provided, so inferred frequency D will be used.\n",
      "  warnings.warn('No frequency information was'\n"
     ]
    },
    {
     "name": "stdout",
     "output_type": "stream",
     "text": [
      "error\n"
     ]
    },
    {
     "name": "stderr",
     "output_type": "stream",
     "text": [
      "C:\\Users\\irene\\anaconda3\\lib\\site-packages\\statsmodels\\tsa\\base\\tsa_model.py:524: ValueWarning: No frequency information was provided, so inferred frequency D will be used.\n",
      "  warnings.warn('No frequency information was'\n"
     ]
    }
   ],
   "source": [
    "\n",
    "# Note: this code will take a while to run\n",
    "\n",
    "# Define function\n",
    "def sarimax_gridsearch(ts, pdq, pdqs, maxiter=50, freq='D'):\n",
    "    '''\n",
    "    Input: \n",
    "        ts : your time series data\n",
    "        pdq : ARIMA combinations from above\n",
    "        pdqs : seasonal ARIMA combinations from above\n",
    "        maxiter : number of iterations, increase if your model isn't converging\n",
    "        frequency : default='M' for month. Change to suit your time series frequency\n",
    "            e.g. 'D' for day, 'H' for hour, 'Y' for year. \n",
    "        \n",
    "    Return:\n",
    "        Prints out top 5 parameter combinations\n",
    "        Returns dataframe of parameter combinations ranked by BIC\n",
    "    '''\n",
    "\n",
    "    # Run a grid search with pdq and seasonal pdq parameters and get the best BIC value\n",
    "    ans = []\n",
    "    for comb in pdq:\n",
    "        for combs in pdqs:\n",
    "            try:\n",
    "                mod = sm.tsa.statespace.SARIMAX(ts, # this is your time series you will input\n",
    "                                                order=comb,\n",
    "                                                seasonal_order=combs,\n",
    "                                                enforce_stationarity=False,\n",
    "                                                enforce_invertibility=False,\n",
    "                                                freq=freq)\n",
    "               \n",
    "                output = mod.fit(maxiter=maxiter) \n",
    "                ans.append([comb, combs, output.bic])\n",
    "                print('SARIMAX {} x {}12 : BIC Calculated ={}'.format(comb, combs, output.bic))\n",
    "            except:\n",
    "                print('error')\n",
    "                continue\n",
    "            \n",
    "    # Find the parameters with minimal BIC value\n",
    "\n",
    "    # Convert into dataframe\n",
    "    ans_df = pd.DataFrame(ans, columns=['pdq', 'pdqs', 'bic'])\n",
    "\n",
    "    # Sort and return top 5 combinations\n",
    "    ans_df = ans_df.sort_values(by=['bic'],ascending=True)[0:5]\n",
    "    return ans_df\n",
    "    \n",
    "### Apply function to your time series data ###\n",
    "\n",
    "# Remember to change frequency to match your time series data\n",
    "resultado = sarimax_gridsearch(ts, pdq, pdqs, freq='D')\n",
    "\n",
    "print(resultado)\n",
    "#------------------------------------------------------------------------------------------------------------------------\n"
   ]
  },
  {
   "cell_type": "code",
   "execution_count": null,
   "metadata": {},
   "outputs": [],
   "source": [
    "\n",
    "#de lo anterior cogeemos os parametros que esten en el compromiso de bajo BIC pero bajo error cuadratico\n",
    "\n",
    "# Build SARIMAX model w/optimal parameters\n",
    "sarimax = sm.tsa.statespace.SARIMAX(ts, \n",
    "                                    order=(1,0,1), \n",
    "                                    seasonal_order=(1,0,0,12), \n",
    "                                    enforce_stationarity=False, \n",
    "                                    enforce_invertibility=False,\n",
    "                                    freq='M')\n",
    "                                    \n",
    "# Fit the model\n",
    "output = sarimax.fit()\n",
    "    \n",
    "# Print output summary\n",
    "print(output.summary())\n",
    "\n",
    "# Plot diagnostics\n",
    "output.plot_diagnostics(figsize=(16,10));\n",
    "\n"
   ]
  },
  {
   "cell_type": "markdown",
   "metadata": {},
   "source": [
    " "
   ]
  }
 ],
 "metadata": {
  "kernelspec": {
   "display_name": "Python 3",
   "language": "python",
   "name": "python3"
  },
  "language_info": {
   "codemirror_mode": {
    "name": "ipython",
    "version": 3
   },
   "file_extension": ".py",
   "mimetype": "text/x-python",
   "name": "python",
   "nbconvert_exporter": "python",
   "pygments_lexer": "ipython3",
   "version": "3.8.5"
  }
 },
 "nbformat": 4,
 "nbformat_minor": 4
}
