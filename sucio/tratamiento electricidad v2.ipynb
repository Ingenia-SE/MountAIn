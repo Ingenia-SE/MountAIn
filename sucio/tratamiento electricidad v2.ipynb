{
 "cells": [
  {
   "cell_type": "code",
   "execution_count": 55,
   "metadata": {},
   "outputs": [],
   "source": [
    "import pandas as pd\n",
    "import numpy as np\n",
    "from datetime import datetime\n",
    "from matplotlib import pyplot\n",
    " \n",
    "consumos = pd.read_csv('consumosUPM.csv', header=0, squeeze=True)\n",
    "electricidad = consumos[consumos['Recurso'] == 'Electricidad']\n",
    "electricidad = electricidad[['Campus','NombreCentro','Centro','TipoCentro','FechaInicioLectura','FechaFinLectura','ConsumoTotal']]\n",
    "electricidad = electricidad[electricidad['ConsumoTotal'] != 0]\n",
    "\n",
    "electricidad = electricidad.reset_index(drop=True)\n"
   ]
  },
  {
   "cell_type": "code",
   "execution_count": 57,
   "metadata": {},
   "outputs": [
    {
     "name": "stdout",
     "output_type": "stream",
     "text": [
      "error\n",
      "<class 'float'>\n",
      "220124.0\n"
     ]
    }
   ],
   "source": [
    "for i in range(len(electricidad)):\n",
    "    if type(electricidad['FechaInicioLectura'][i]) is str:\n",
    "        try:\n",
    "            fechaInicio = datetime.strptime(electricidad['FechaInicioLectura'][i],'%d/%m/%Y %H:%M').date()\n",
    "        except:\n",
    "            try:\n",
    "                fechaInicio = datetime.strptime(electricidad['FechaInicioLectura'][i],'%m/%d/%Y %H:%M').date()\n",
    "            except:\n",
    "                print(\"formato raro -----\"+electricidad['FechaInicioLectura'][i])\n",
    "            \n",
    "    else:\n",
    "        print('error')\n",
    "        print(type(electricidad['FechaInicioLectura'][i]))\n",
    "        print(electricidad['ConsumoTotal'][i])\n",
    "   \n",
    "\n",
    "    #electricidad['FechaFinLectura'][5] = datetime.strptime(fechaFin,'%d/%m/%Y %H:%M').date()\n"
   ]
  },
  {
   "cell_type": "code",
   "execution_count": null,
   "metadata": {},
   "outputs": [],
   "source": [
    "try:\n",
    "    electricidad[\"FechaInicioLectura\"] = pd.to_datetime(electricidad['FechaInicioLectura'], format='%m/%d/%Y %H:%M')\n",
    "except:\n",
    "        try:\n",
    "            electricidad[\"FechaInicioLectura\"] = pd.to_datetime(electricidad['FechaInicioLectura'], format='%d/%m/%Y %H:%M')\n",
    "        except:\n",
    "            print(\"formato raro -----\" + electricidad['FechaInicioLectura'][i])"
   ]
  },
  {
   "cell_type": "code",
   "execution_count": null,
   "metadata": {},
   "outputs": [],
   "source": [
    "\n",
    "for i in range(len(electricidad)):\n",
    "    \n",
    "    \n",
    "\n",
    "    #electricidad['FechaFinLectura'][5] = datetime.strptime(fechaFin,'%d/%m/%Y %H:%M').date()"
   ]
  }
 ],
 "metadata": {
  "kernelspec": {
   "display_name": "Python 3",
   "language": "python",
   "name": "python3"
  },
  "language_info": {
   "codemirror_mode": {
    "name": "ipython",
    "version": 3
   },
   "file_extension": ".py",
   "mimetype": "text/x-python",
   "name": "python",
   "nbconvert_exporter": "python",
   "pygments_lexer": "ipython3",
   "version": "3.8.5"
  }
 },
 "nbformat": 4,
 "nbformat_minor": 4
}
