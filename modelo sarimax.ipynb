{
 "cells": [
  {
   "cell_type": "code",
   "execution_count": null,
   "metadata": {},
   "outputs": [],
   "source": [
    "import statsmodels.api as sm\n",
    "import pandas\n",
    "from patsy import dmatrices\n",
    "\n",
    "\n",
    "# specify training data\n",
    "data = ...\n",
    "# specify additional data\n",
    "other_data = ...\n",
    "\n",
    "# define model configuration\n",
    "my_order = (1, 1, 1) #p,d,q,\n",
    "my_seasonal_order = (1, 1, 1, 12)#P,D, Q, s=12 mensual y s=365 diario\n",
    "\n",
    "\n",
    "# define model\n",
    "model = SARIMAX(data, exog=other_data, order=my_order, seasonal_order=my_seasonal_order)\n",
    "# fit model\n",
    "model_fit = model.fit()\n",
    "# one step forecast\n",
    "yhat = model_fit.forecast()\n",
    "#o con funcion predict, necesitamos especificar fechas.\n",
    "yhat = model_fit.predict(start=len(data), end=len(data))"
   ]
  }
 ],
 "metadata": {
  "kernelspec": {
   "display_name": "Python 3",
   "language": "python",
   "name": "python3"
  },
  "language_info": {
   "codemirror_mode": {
    "name": "ipython",
    "version": 3
   },
   "file_extension": ".py",
   "mimetype": "text/x-python",
   "name": "python",
   "nbconvert_exporter": "python",
   "pygments_lexer": "ipython3",
   "version": "3.8.5"
  }
 },
 "nbformat": 4,
 "nbformat_minor": 4
}
