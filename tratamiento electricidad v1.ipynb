{
 "cells": [
  {
   "cell_type": "code",
   "execution_count": 183,
   "metadata": {},
   "outputs": [
    {
     "name": "stdout",
     "output_type": "stream",
     "text": [
      "<class 'pandas.core.frame.DataFrame'>\n",
      "Campus Sur\n",
      "<class 'pandas.core.frame.DataFrame'>\n",
      "RangeIndex: 11195 entries, 0 to 11194\n",
      "Data columns (total 17 columns):\n",
      " #   Column               Non-Null Count  Dtype  \n",
      "---  ------               --------------  -----  \n",
      " 0   Campus               11195 non-null  object \n",
      " 1   NombreCentro         11195 non-null  object \n",
      " 2   Centro               11195 non-null  int64  \n",
      " 3   Dirección            11195 non-null  object \n",
      " 4   Recurso              11195 non-null  object \n",
      " 5   TipoCentro           11195 non-null  object \n",
      " 6   FechaInicioLectura   11073 non-null  object \n",
      " 7   FechaFinLectura      11073 non-null  object \n",
      " 8   FechaEmisionFactura  11195 non-null  object \n",
      " 9   ConsumoP1            2659 non-null   float64\n",
      " 10  ConsumoP2            2659 non-null   float64\n",
      " 11  ConsumoP3            2659 non-null   float64\n",
      " 12  ConsumoP4            2659 non-null   float64\n",
      " 13  ConsumoP5            2659 non-null   float64\n",
      " 14  ConsumoP6            2659 non-null   float64\n",
      " 15  ConsumoTotal         11195 non-null  float64\n",
      " 16  AñoFinLectura        11073 non-null  float64\n",
      "dtypes: float64(8), int64(1), object(8)\n",
      "memory usage: 1.5+ MB\n"
     ]
    }
   ],
   "source": [
    "import pandas as pd\n",
    "from pandas import datetime\n",
    "from matplotlib import pyplot\n",
    " \n",
    "consumos = pd.read_csv('consumosUPM.csv', header=0, squeeze=True)\n",
    "\n",
    "#headerList = ['Campus', 'Centro', 'Centro_id','TipoCentro','FechaInicioLectura','FechaFinLectura','ConsumoTotal']\n",
    "\n",
    "print(type(consumos))\n",
    "\n",
    "#print(len(consumos))\n",
    "#print(consumos.shape)        "
   ]
  },
  {
   "cell_type": "code",
   "execution_count": 176,
   "metadata": {},
   "outputs": [
    {
     "name": "stdout",
     "output_type": "stream",
     "text": [
      "<class 'pandas.core.frame.DataFrame'>\n"
     ]
    }
   ],
   "source": [
    "\n",
    "data = {'Campus': [], \n",
    "        'Centro':[],\n",
    "        'Centro_id': [],\n",
    "        'TipoCentro':[],\n",
    "        'FechaInicioLectura':[],\n",
    "        'FechaFinLectura':[],\n",
    "        'ConsumoTotal':[]}\n",
    "\n",
    "nuevo_csv = pd.DataFrame(data)\n",
    "#nuevo_csv = pd.DataFrame(data, columns= ['Campus', 'Centro', 'Centro_id','TipoCentro','FechaInicioLectura','FechaFinLectura','ConsumoTotal'])\n",
    "nuevo_csv.to_csv('consumosFiltrados.csv')\n",
    "\n",
    "filtrados = pd.read_csv('consumosFiltrados.csv', index_col=0)\n",
    "print(type(filtrados))"
   ]
  },
  {
   "cell_type": "code",
   "execution_count": 177,
   "metadata": {},
   "outputs": [],
   "source": [
    "for i in range(len(consumos)):\n",
    "    if consumos['Recurso'][i] == 'Electricidad':\n",
    "        #print(consumos.iloc[[i]]) #me imprime la fila completa\n",
    "        nueva_fila = {\n",
    "            'Campus': consumos['Campus'][i], \n",
    "            'Centro': consumos['NombreCentro'][i],\n",
    "            'Centro_id': consumos['Centro'][i],\n",
    "            'TipoCentro':consumos['TipoCentro'][i],\n",
    "            'FechaInicioLectura':consumos[ 'FechaInicioLectura'][i],\n",
    "            'FechaFinLectura':consumos['FechaFinLectura'][i],\n",
    "            'ConsumoTotal':consumos['ConsumoTotal'][i]\n",
    "        }\n",
    "        filtrados = filtrados.append(nueva_fila,ignore_index=True)\n",
    "\n",
    "        "
   ]
  },
  {
   "cell_type": "code",
   "execution_count": 179,
   "metadata": {},
   "outputs": [
    {
     "name": "stdout",
     "output_type": "stream",
     "text": [
      "     Campus                 Centro Centro_id     TipoCentro  \\\n",
      "0       lol  Biblioteca Campus Sur        18  Otros Centros   \n",
      "1       lol  Biblioteca Campus Sur        18  Otros Centros   \n",
      "2       lol  Biblioteca Campus Sur        18  Otros Centros   \n",
      "3       lol  Biblioteca Campus Sur        18  Otros Centros   \n",
      "4       lol  Biblioteca Campus Sur        18  Otros Centros   \n",
      "...     ...                    ...       ...            ...   \n",
      "4168    lol              USOC/CIDA        57   Invesigación   \n",
      "4169    lol              USOC/CIDA        57   Invesigación   \n",
      "4170    lol              USOC/CIDA        57   Invesigación   \n",
      "4171    lol              USOC/CIDA        57   Invesigación   \n",
      "4172    lol              USOC/CIDA        57   Invesigación   \n",
      "\n",
      "     FechaInicioLectura  FechaFinLectura  ConsumoTotal  \n",
      "0       10/22/2020 0:00  10/31/2020 0:00        9324.0  \n",
      "1         9/1/2020 0:00   9/30/2020 0:00       40095.0  \n",
      "2        10/1/2020 0:00  10/21/2020 0:00       15368.0  \n",
      "3         7/1/2020 0:00   7/31/2020 0:00       66474.0  \n",
      "4         8/1/2020 0:00   8/31/2020 0:00       52237.0  \n",
      "...                 ...              ...           ...  \n",
      "4168     2/20/2014 0:00   3/19/2014 0:00       19293.0  \n",
      "4169     1/23/2014 0:00   2/19/2014 0:00       21320.0  \n",
      "4170    12/24/2013 0:00   1/22/2014 0:00       19541.0  \n",
      "4171                NaN              NaN           0.0  \n",
      "4172                NaN              NaN           0.0  \n",
      "\n",
      "[4173 rows x 7 columns]\n"
     ]
    }
   ],
   "source": [
    "print(filtrados)"
   ]
  },
  {
   "cell_type": "code",
   "execution_count": null,
   "metadata": {},
   "outputs": [],
   "source": []
  },
  {
   "cell_type": "code",
   "execution_count": null,
   "metadata": {},
   "outputs": [],
   "source": []
  }
 ],
 "metadata": {
  "kernelspec": {
   "display_name": "Python 3",
   "language": "python",
   "name": "python3"
  },
  "language_info": {
   "codemirror_mode": {
    "name": "ipython",
    "version": 3
   },
   "file_extension": ".py",
   "mimetype": "text/x-python",
   "name": "python",
   "nbconvert_exporter": "python",
   "pygments_lexer": "ipython3",
   "version": "3.8.5"
  }
 },
 "nbformat": 4,
 "nbformat_minor": 4
}
