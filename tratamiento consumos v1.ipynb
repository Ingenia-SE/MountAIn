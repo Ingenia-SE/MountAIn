{
 "cells": [
  {
   "cell_type": "code",
   "execution_count": 6,
   "metadata": {},
   "outputs": [],
   "source": [
    "import pandas as pd\n",
    "import numpy as np\n",
    "from datetime import datetime\n",
    "from matplotlib import pyplot\n",
    " \n",
    "consumos = pd.read_csv('consumosUPM.csv', header=0, squeeze=True)\n",
    "\n",
    "def filtro(recurso):\n",
    "    datos_filtrados = consumos[consumos['Recurso'] == recurso]\n",
    "    datos_filtrados = datos_filtrados[['Campus','NombreCentro','Centro','TipoCentro','FechaInicioLectura','FechaFinLectura','ConsumoTotal']]\n",
    "    datos_filtrados = datos_filtrados[datos_filtrados['ConsumoTotal'] != 0]\n",
    "    datos_filtrados = datos_filtrados.reset_index(drop=True)\n",
    "    defectos =[]\n",
    "    \n",
    "    for i in range(len(datos_filtrados)):\n",
    "        if type(datos_filtrados['FechaInicioLectura'][i]) is str:\n",
    "            try:\n",
    "                datos_filtrados['FechaInicioLectura'][i] = datetime.strptime(datos_filtrados['FechaInicioLectura'][i],'%d/%m/%Y %H:%M').date()\n",
    "            except:\n",
    "                try:\n",
    "                    datos_filtrados['FechaInicioLectura'][i] = datetime.strptime(datos_filtrados['FechaInicioLectura'][i],'%m/%d/%Y %H:%M').date()\n",
    "                except:\n",
    "                    print(\"Something went wrong\")\n",
    "\n",
    "        else:\n",
    "            defectos.append(i)\n",
    "            \n",
    "        if type(datos_filtrados['FechaFinLectura'][i]) is str:\n",
    "            try:\n",
    "                datos_filtrados['FechaFinLectura'][i] = datetime.strptime(datos_filtrados['FechaFinLectura'][i],'%d/%m/%Y %H:%M').date()\n",
    "            except:\n",
    "                try:\n",
    "                    datos_filtrados['FechaFinLectura'][i] = datetime.strptime(datos_filtrados['FechaFinLectura'][i],'%m/%d/%Y %H:%M').date()\n",
    "                except:\n",
    "                    print(\"Something went wrong\")\n",
    "\n",
    "        else:\n",
    "            defectos.append(i)\n",
    "            \n",
    "    defectos = list(dict.fromkeys(defectos))\n",
    "    datos_filtrados = datos_filtrados.drop(index = defectos)\n",
    "    datos_filtrados = datos_filtrados.reset_index(drop=True)\n",
    "    return datos_filtrados\n",
    "\n",
    "\n"
   ]
  },
  {
   "cell_type": "code",
   "execution_count": 7,
   "metadata": {},
   "outputs": [
    {
     "name": "stderr",
     "output_type": "stream",
     "text": [
      "<ipython-input-6-76cc6ff53e6a>:21: SettingWithCopyWarning: \n",
      "A value is trying to be set on a copy of a slice from a DataFrame\n",
      "\n",
      "See the caveats in the documentation: https://pandas.pydata.org/pandas-docs/stable/user_guide/indexing.html#returning-a-view-versus-a-copy\n",
      "  datos_filtrados['FechaInicioLectura'][i] = datetime.strptime(datos_filtrados['FechaInicioLectura'][i],'%m/%d/%Y %H:%M').date()\n",
      "<ipython-input-6-76cc6ff53e6a>:33: SettingWithCopyWarning: \n",
      "A value is trying to be set on a copy of a slice from a DataFrame\n",
      "\n",
      "See the caveats in the documentation: https://pandas.pydata.org/pandas-docs/stable/user_guide/indexing.html#returning-a-view-versus-a-copy\n",
      "  datos_filtrados['FechaFinLectura'][i] = datetime.strptime(datos_filtrados['FechaFinLectura'][i],'%m/%d/%Y %H:%M').date()\n",
      "<ipython-input-6-76cc6ff53e6a>:18: SettingWithCopyWarning: \n",
      "A value is trying to be set on a copy of a slice from a DataFrame\n",
      "\n",
      "See the caveats in the documentation: https://pandas.pydata.org/pandas-docs/stable/user_guide/indexing.html#returning-a-view-versus-a-copy\n",
      "  datos_filtrados['FechaInicioLectura'][i] = datetime.strptime(datos_filtrados['FechaInicioLectura'][i],'%d/%m/%Y %H:%M').date()\n",
      "<ipython-input-6-76cc6ff53e6a>:30: SettingWithCopyWarning: \n",
      "A value is trying to be set on a copy of a slice from a DataFrame\n",
      "\n",
      "See the caveats in the documentation: https://pandas.pydata.org/pandas-docs/stable/user_guide/indexing.html#returning-a-view-versus-a-copy\n",
      "  datos_filtrados['FechaFinLectura'][i] = datetime.strptime(datos_filtrados['FechaFinLectura'][i],'%d/%m/%Y %H:%M').date()\n"
     ]
    }
   ],
   "source": [
    "electricidad = filtro(\"Electricidad\")"
   ]
  },
  {
   "cell_type": "code",
   "execution_count": 10,
   "metadata": {},
   "outputs": [
    {
     "name": "stderr",
     "output_type": "stream",
     "text": [
      "<ipython-input-6-76cc6ff53e6a>:18: SettingWithCopyWarning: \n",
      "A value is trying to be set on a copy of a slice from a DataFrame\n",
      "\n",
      "See the caveats in the documentation: https://pandas.pydata.org/pandas-docs/stable/user_guide/indexing.html#returning-a-view-versus-a-copy\n",
      "  datos_filtrados['FechaInicioLectura'][i] = datetime.strptime(datos_filtrados['FechaInicioLectura'][i],'%d/%m/%Y %H:%M').date()\n",
      "<ipython-input-6-76cc6ff53e6a>:33: SettingWithCopyWarning: \n",
      "A value is trying to be set on a copy of a slice from a DataFrame\n",
      "\n",
      "See the caveats in the documentation: https://pandas.pydata.org/pandas-docs/stable/user_guide/indexing.html#returning-a-view-versus-a-copy\n",
      "  datos_filtrados['FechaFinLectura'][i] = datetime.strptime(datos_filtrados['FechaFinLectura'][i],'%m/%d/%Y %H:%M').date()\n",
      "<ipython-input-6-76cc6ff53e6a>:30: SettingWithCopyWarning: \n",
      "A value is trying to be set on a copy of a slice from a DataFrame\n",
      "\n",
      "See the caveats in the documentation: https://pandas.pydata.org/pandas-docs/stable/user_guide/indexing.html#returning-a-view-versus-a-copy\n",
      "  datos_filtrados['FechaFinLectura'][i] = datetime.strptime(datos_filtrados['FechaFinLectura'][i],'%d/%m/%Y %H:%M').date()\n",
      "<ipython-input-6-76cc6ff53e6a>:21: SettingWithCopyWarning: \n",
      "A value is trying to be set on a copy of a slice from a DataFrame\n",
      "\n",
      "See the caveats in the documentation: https://pandas.pydata.org/pandas-docs/stable/user_guide/indexing.html#returning-a-view-versus-a-copy\n",
      "  datos_filtrados['FechaInicioLectura'][i] = datetime.strptime(datos_filtrados['FechaInicioLectura'][i],'%m/%d/%Y %H:%M').date()\n",
      "<ipython-input-6-76cc6ff53e6a>:21: SettingWithCopyWarning: \n",
      "A value is trying to be set on a copy of a slice from a DataFrame\n",
      "\n",
      "See the caveats in the documentation: https://pandas.pydata.org/pandas-docs/stable/user_guide/indexing.html#returning-a-view-versus-a-copy\n",
      "  datos_filtrados['FechaInicioLectura'][i] = datetime.strptime(datos_filtrados['FechaInicioLectura'][i],'%m/%d/%Y %H:%M').date()\n",
      "<ipython-input-6-76cc6ff53e6a>:33: SettingWithCopyWarning: \n",
      "A value is trying to be set on a copy of a slice from a DataFrame\n",
      "\n",
      "See the caveats in the documentation: https://pandas.pydata.org/pandas-docs/stable/user_guide/indexing.html#returning-a-view-versus-a-copy\n",
      "  datos_filtrados['FechaFinLectura'][i] = datetime.strptime(datos_filtrados['FechaFinLectura'][i],'%m/%d/%Y %H:%M').date()\n",
      "<ipython-input-6-76cc6ff53e6a>:18: SettingWithCopyWarning: \n",
      "A value is trying to be set on a copy of a slice from a DataFrame\n",
      "\n",
      "See the caveats in the documentation: https://pandas.pydata.org/pandas-docs/stable/user_guide/indexing.html#returning-a-view-versus-a-copy\n",
      "  datos_filtrados['FechaInicioLectura'][i] = datetime.strptime(datos_filtrados['FechaInicioLectura'][i],'%d/%m/%Y %H:%M').date()\n",
      "<ipython-input-6-76cc6ff53e6a>:30: SettingWithCopyWarning: \n",
      "A value is trying to be set on a copy of a slice from a DataFrame\n",
      "\n",
      "See the caveats in the documentation: https://pandas.pydata.org/pandas-docs/stable/user_guide/indexing.html#returning-a-view-versus-a-copy\n",
      "  datos_filtrados['FechaFinLectura'][i] = datetime.strptime(datos_filtrados['FechaFinLectura'][i],'%d/%m/%Y %H:%M').date()\n"
     ]
    }
   ],
   "source": [
    "agua = filtro(\"Agua\")\n",
    "gas = filtro(\"Gas\")"
   ]
  },
  {
   "cell_type": "code",
   "execution_count": null,
   "metadata": {},
   "outputs": [],
   "source": []
  }
 ],
 "metadata": {
  "kernelspec": {
   "display_name": "Python 3",
   "language": "python",
   "name": "python3"
  },
  "language_info": {
   "codemirror_mode": {
    "name": "ipython",
    "version": 3
   },
   "file_extension": ".py",
   "mimetype": "text/x-python",
   "name": "python",
   "nbconvert_exporter": "python",
   "pygments_lexer": "ipython3",
   "version": "3.8.5"
  }
 },
 "nbformat": 4,
 "nbformat_minor": 4
}
