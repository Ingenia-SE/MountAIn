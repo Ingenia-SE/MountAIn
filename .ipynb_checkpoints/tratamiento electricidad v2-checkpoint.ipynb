{
 "cells": [
  {
   "cell_type": "code",
   "execution_count": 11,
   "metadata": {},
   "outputs": [
    {
     "name": "stdout",
     "output_type": "stream",
     "text": [
      "<class 'pandas.core.frame.DataFrame'>\n"
     ]
    }
   ],
   "source": [
    "import pandas as pd\n",
    "from datetime import datetime\n",
    "from matplotlib import pyplot\n",
    " \n",
    "consumos = pd.read_csv('consumosUPM.csv', header=0, squeeze=True)\n",
    "\n",
    "print(type(consumos))"
   ]
  },
  {
   "cell_type": "code",
   "execution_count": 12,
   "metadata": {},
   "outputs": [
    {
     "name": "stdout",
     "output_type": "stream",
     "text": [
      "             Campus           NombreCentro  Centro  \\\n",
      "3        Campus Sur  Biblioteca Campus Sur      18   \n",
      "4        Campus Sur  Biblioteca Campus Sur      18   \n",
      "5        Campus Sur  Biblioteca Campus Sur      18   \n",
      "7        Campus Sur  Biblioteca Campus Sur      18   \n",
      "8        Campus Sur  Biblioteca Campus Sur      18   \n",
      "...             ...                    ...     ...   \n",
      "11188  Montegancedo              USOC/CIDA      57   \n",
      "11189  Montegancedo              USOC/CIDA      57   \n",
      "11192  Montegancedo              USOC/CIDA      57   \n",
      "11193  Montegancedo              USOC/CIDA      57   \n",
      "11194  Montegancedo              USOC/CIDA      57   \n",
      "\n",
      "                              Dirección       Recurso     TipoCentro  \\\n",
      "3      C/ Alan Turing, 1 - 28031 Madrid  Electricidad  Otros Centros   \n",
      "4      C/ Alan Turing, 1 - 28031 Madrid  Electricidad  Otros Centros   \n",
      "5      C/ Alan Turing, 1 - 28031 Madrid  Electricidad  Otros Centros   \n",
      "7      C/ Alan Turing, 1 - 28031 Madrid  Electricidad  Otros Centros   \n",
      "8      C/ Alan Turing, 1 - 28031 Madrid  Electricidad  Otros Centros   \n",
      "...                                 ...           ...            ...   \n",
      "11188              40,406323, -3,831960  Electricidad   Invesigación   \n",
      "11189              40,406323, -3,831960  Electricidad   Invesigación   \n",
      "11192              40,406323, -3,831960  Electricidad   Invesigación   \n",
      "11193              40,406323, -3,831960  Electricidad   Invesigación   \n",
      "11194              40,406323, -3,831960  Electricidad   Invesigación   \n",
      "\n",
      "      FechaInicioLectura  FechaFinLectura FechaEmisionFactura  ConsumoP1  \\\n",
      "3        10/22/2020 0:00  10/31/2020 0:00      12/7/2020 0:00        NaN   \n",
      "4          9/1/2020 0:00   9/30/2020 0:00      11/6/2020 0:00        NaN   \n",
      "5         10/1/2020 0:00  10/21/2020 0:00      11/6/2020 0:00        NaN   \n",
      "7          7/1/2020 0:00   7/31/2020 0:00      9/15/2020 0:00        NaN   \n",
      "8          8/1/2020 0:00   8/31/2020 0:00      9/15/2020 0:00        NaN   \n",
      "...                  ...              ...                 ...        ...   \n",
      "11188     2/20/2014 0:00   3/19/2014 0:00      3/21/2014 0:00     3100.0   \n",
      "11189     1/23/2014 0:00   2/19/2014 0:00      2/21/2014 0:00     3623.0   \n",
      "11192    12/24/2013 0:00   1/22/2014 0:00      1/28/2014 0:00     3215.0   \n",
      "11193                NaN              NaN       2/6/2012 0:00        0.0   \n",
      "11194                NaN              NaN       2/6/2012 0:00        0.0   \n",
      "\n",
      "       ConsumoP2  ConsumoP3  ConsumoP4  ConsumoP5  ConsumoP6  ConsumoTotal  \\\n",
      "3            NaN        NaN        NaN        NaN        NaN        9324.0   \n",
      "4            NaN        NaN        NaN        NaN        NaN       40095.0   \n",
      "5            NaN        NaN        NaN        NaN        NaN       15368.0   \n",
      "7            NaN        NaN        NaN        NaN        NaN       66474.0   \n",
      "8            NaN        NaN        NaN        NaN        NaN       52237.0   \n",
      "...          ...        ...        ...        ...        ...           ...   \n",
      "11188     9176.0     7017.0        0.0        0.0        0.0       19293.0   \n",
      "11189     9986.0     7711.0        0.0        0.0        0.0       21320.0   \n",
      "11192     8982.0     7344.0        0.0        0.0        0.0       19541.0   \n",
      "11193        0.0        0.0        0.0        0.0        0.0           0.0   \n",
      "11194        0.0        0.0        0.0        0.0        0.0           0.0   \n",
      "\n",
      "       AñoFinLectura  \n",
      "3             2020.0  \n",
      "4             2020.0  \n",
      "5             2020.0  \n",
      "7             2020.0  \n",
      "8             2020.0  \n",
      "...              ...  \n",
      "11188         2014.0  \n",
      "11189         2014.0  \n",
      "11192         2014.0  \n",
      "11193            NaN  \n",
      "11194            NaN  \n",
      "\n",
      "[4173 rows x 17 columns]\n"
     ]
    }
   ],
   "source": [
    "electricidad = consumos[consumos['Recurso'] == 'Electricidad']\n",
    "print(electricidad)\n"
   ]
  },
  {
   "cell_type": "code",
   "execution_count": 13,
   "metadata": {},
   "outputs": [
    {
     "name": "stdout",
     "output_type": "stream",
     "text": [
      "             Campus           NombreCentro  Centro     TipoCentro  \\\n",
      "3        Campus Sur  Biblioteca Campus Sur      18  Otros Centros   \n",
      "4        Campus Sur  Biblioteca Campus Sur      18  Otros Centros   \n",
      "5        Campus Sur  Biblioteca Campus Sur      18  Otros Centros   \n",
      "7        Campus Sur  Biblioteca Campus Sur      18  Otros Centros   \n",
      "8        Campus Sur  Biblioteca Campus Sur      18  Otros Centros   \n",
      "...             ...                    ...     ...            ...   \n",
      "11188  Montegancedo              USOC/CIDA      57   Invesigación   \n",
      "11189  Montegancedo              USOC/CIDA      57   Invesigación   \n",
      "11192  Montegancedo              USOC/CIDA      57   Invesigación   \n",
      "11193  Montegancedo              USOC/CIDA      57   Invesigación   \n",
      "11194  Montegancedo              USOC/CIDA      57   Invesigación   \n",
      "\n",
      "      FechaInicioLectura  FechaFinLectura  ConsumoTotal  \n",
      "3        10/22/2020 0:00  10/31/2020 0:00        9324.0  \n",
      "4          9/1/2020 0:00   9/30/2020 0:00       40095.0  \n",
      "5         10/1/2020 0:00  10/21/2020 0:00       15368.0  \n",
      "7          7/1/2020 0:00   7/31/2020 0:00       66474.0  \n",
      "8          8/1/2020 0:00   8/31/2020 0:00       52237.0  \n",
      "...                  ...              ...           ...  \n",
      "11188     2/20/2014 0:00   3/19/2014 0:00       19293.0  \n",
      "11189     1/23/2014 0:00   2/19/2014 0:00       21320.0  \n",
      "11192    12/24/2013 0:00   1/22/2014 0:00       19541.0  \n",
      "11193                NaN              NaN           0.0  \n",
      "11194                NaN              NaN           0.0  \n",
      "\n",
      "[4173 rows x 7 columns]\n"
     ]
    }
   ],
   "source": [
    "electricidad = electricidad[['Campus','NombreCentro','Centro','TipoCentro','FechaInicioLectura','FechaFinLectura','ConsumoTotal']]\n",
    "\n",
    "print(electricidad)"
   ]
  },
  {
   "cell_type": "code",
   "execution_count": null,
   "metadata": {},
   "outputs": [],
   "source": []
  }
 ],
 "metadata": {
  "kernelspec": {
   "display_name": "Python 3",
   "language": "python",
   "name": "python3"
  },
  "language_info": {
   "codemirror_mode": {
    "name": "ipython",
    "version": 3
   },
   "file_extension": ".py",
   "mimetype": "text/x-python",
   "name": "python",
   "nbconvert_exporter": "python",
   "pygments_lexer": "ipython3",
   "version": "3.8.5"
  }
 },
 "nbformat": 4,
 "nbformat_minor": 4
}
