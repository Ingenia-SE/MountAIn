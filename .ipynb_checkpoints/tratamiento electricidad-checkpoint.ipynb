{
 "cells": [
  {
   "cell_type": "code",
   "execution_count": null,
   "metadata": {},
   "outputs": [],
   "source": [
    "import pandas as pd\n",
    "#from pandas import datetime\n",
    "from matplotlib import pyplot\n",
    " \n",
    "consumos = pd.read_csv('consumosUPM.csv', header=0, squeeze=True)\n",
    "\n",
    "headerList = ['Campus', 'Centro', 'Centro_id','TipoCentro','FechaInicioLectura','FechaFinLectura','ConsumoTotal']\n",
    "\n",
    "print(type(consumos))\n",
    "\n",
    "print(len(consumos))\n",
    "print(consumos.shape)\n",
    "\n",
    "\n",
    "        "
   ]
  },
  {
   "cell_type": "code",
   "execution_count": null,
   "metadata": {},
   "outputs": [],
   "source": [
    "\n",
    "data = {'Campus': [], \n",
    "        'Centro':[],\n",
    "        'Centro_id': [],\n",
    "        'TipoCentro':[],\n",
    "        'FechaInicioLectura':[],\n",
    "        'FechaFinLectura':[],\n",
    "        'ConsumoTotal':[]}\n",
    "\n",
    "nuevo_csv = pd.DataFrame(data, columns= ['Campus', 'Centro', 'Centro_id','TipoCentro','FechaInicioLectura','FechaFinLectura','ConsumoTotal'])\n",
    "nuevo_csv.to_csv('consumosFiltrados.csv')\n",
    "\n",
    "filtrados = pd.read_csv('consumosFiltrados.csv', header=0)\n",
    "filtrados.header()\n",
    "print(type(filtrados))"
   ]
  },
  {
   "cell_type": "code",
   "execution_count": null,
   "metadata": {},
   "outputs": [],
   "source": [
    "for i in range(len(consumos)):\n",
    "    if consumos['Recurso'][i] == 'Electricidad':\n",
    "        #print(consumos.iloc[[i]]) #me imprime la fila completa\n",
    "        nueva_fila = {\n",
    "            'Campus': 'lol', \n",
    "            'Centro': consumos['NombreCentro'][i],\n",
    "            'Centro_id': consumos['Centro'][i],\n",
    "            'TipoCentro':consumos['TipoCentro'][i],\n",
    "            'FechaInicioLectura':consumos[ 'FechaInicioLectura'][i],\n",
    "            'FechaFinLectura':consumos['FechaFinLectura'][i],\n",
    "            'ConsumoTotal':consumos['ConsumoTotal'][i]\n",
    "        }\n",
    "        filtrados.append(nueva_fila,ignore_index=True)\n",
    "\n",
    "        "
   ]
  },
  {
   "cell_type": "code",
   "execution_count": null,
   "metadata": {},
   "outputs": [],
   "source": [
    "print(filtrados)"
   ]
  },
  {
   "cell_type": "code",
   "execution_count": null,
   "metadata": {},
   "outputs": [],
   "source": []
  },
  {
   "cell_type": "code",
   "execution_count": null,
   "metadata": {},
   "outputs": [],
   "source": []
  }
 ],
 "metadata": {
  "kernelspec": {
   "display_name": "Python 3",
   "language": "python",
   "name": "python3"
  },
  "language_info": {
   "codemirror_mode": {
    "name": "ipython",
    "version": 3
   },
   "file_extension": ".py",
   "mimetype": "text/x-python",
   "name": "python",
   "nbconvert_exporter": "python",
   "pygments_lexer": "ipython3",
   "version": "3.8.5"
  }
 },
 "nbformat": 4,
 "nbformat_minor": 4
}
