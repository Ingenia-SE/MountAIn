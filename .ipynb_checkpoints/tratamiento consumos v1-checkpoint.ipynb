{
 "cells": [
  {
   "cell_type": "code",
   "execution_count": 1,
   "metadata": {},
   "outputs": [],
   "source": [
    "import pandas as pd\n",
    "import numpy as np\n",
    "from datetime import datetime, timedelta\n",
    "from matplotlib import pyplot\n",
    " \n",
    "consumos = pd.read_csv('consumosUPM bien.csv', header=0, squeeze=True)\n",
    "\n",
    "def filtro(recurso):\n",
    "    datos_filtrados = consumos[consumos['Recurso'] == recurso]\n",
    "    datos_filtrados = datos_filtrados[['Campus','NombreCentro','Centro','TipoCentro','FechaInicioLectura','FechaFinLectura','ConsumoTotal']]\n",
    "    datos_filtrados = datos_filtrados[datos_filtrados['ConsumoTotal'] != '0' ]\n",
    "    \n",
    "    \n",
    "    datos_filtrados = datos_filtrados.reset_index(drop=True)\n",
    "    defectos =[]\n",
    "    \n",
    "    for i in range(len(datos_filtrados)):\n",
    "        if type(datos_filtrados['FechaInicioLectura'][i]) is str: #intentar hacer con el dropna()\n",
    "            try:\n",
    "                datos_filtrados['FechaInicioLectura'][i] = datetime.strptime(datos_filtrados['FechaInicioLectura'][i],'%Y-%m-%d').date()\n",
    "            except:\n",
    "                print(\"algo ha fallado con el formato\")\n",
    "                   \n",
    "\n",
    "        else:\n",
    "            print(datos_filtrados['FechaInicioLectura'][i])\n",
    "            defectos.append(i)\n",
    "            \n",
    "        if type(datos_filtrados['FechaFinLectura'][i]) is str:\n",
    "            try:\n",
    "                datos_filtrados['FechaFinLectura'][i] = datetime.strptime(datos_filtrados['FechaFinLectura'][i],'%Y-%m-%d').date()\n",
    "            except:\n",
    "                print(\"Something went wrong\")\n",
    "\n",
    "        else:\n",
    "            defectos.append(i)\n",
    "            \n",
    "    defectos = list(dict.fromkeys(defectos))\n",
    "    datos_filtrados = datos_filtrados.drop(index = defectos)\n",
    "    datos_filtrados = datos_filtrados.reset_index(drop=True)\n",
    "#     datos_filtrados = datos_filtrados.sort_values('FechaInicioLectura')\n",
    "    return datos_filtrados\n",
    "\n",
    "\n"
   ]
  },
  {
   "cell_type": "code",
   "execution_count": 2,
   "metadata": {},
   "outputs": [
    {
     "name": "stdout",
     "output_type": "stream",
     "text": [
      "nan\n"
     ]
    }
   ],
   "source": [
    "electricidad = filtro(\"Electricidad\")\n",
    "#agua = filtro(\"Agua\")\n",
    "#gas = filtro(\"Gas\")\n",
    "#agua.head(20)\n",
    "# electricidad.head(20)\n"
   ]
  },
  {
   "cell_type": "code",
   "execution_count": 3,
   "metadata": {},
   "outputs": [],
   "source": [
    "def desglose(dataframe):\n",
    "    datos_desglosados = pd.DataFrame(columns=['Campus','NombreCentro','Centro','TipoCentro','FechaLectura','DiaSemana','ConsumoTotal'])\n",
    "    for i in range(len(dataframe)):\n",
    "        \n",
    "#     for i in range(100) #---->por si quereis probarlo sin que el ordenador se os pase media hora pensando xD\n",
    "        a = dataframe['FechaFinLectura'][i]\n",
    "        b = dataframe['FechaInicioLectura'][i]\n",
    "        c= datos_desglosados.shape[0] #esto me saca el numero de filas en el nuevo dataframe\n",
    "        \n",
    "        datos_desglosados.loc[c]=dataframe.loc[i]\n",
    "        datos_desglosados.loc[c,'FechaLectura']=b\n",
    "        datos_desglosados.loc[c,'DiaSemana']=b.strftime(\"%a\")\n",
    "\n",
    "        d=b\n",
    "        for j in range((a-b).days):\n",
    "            c+=1\n",
    "            d += timedelta(days=1)                    \n",
    "            datos_desglosados.loc[c]=dataframe.loc[i]\n",
    "            datos_desglosados.loc[c,'FechaLectura']=d\n",
    "            datos_desglosados.loc[c,'DiaSemana']=d.strftime(\"%a\")\n",
    "            \n",
    "    return datos_desglosados\n",
    "\n"
   ]
  },
  {
   "cell_type": "code",
   "execution_count": null,
   "metadata": {},
   "outputs": [],
   "source": [
    "ejemplo = desglose(electricidad)\n",
    "\n",
    "ejemplo.head(50)\n"
   ]
  },
  {
   "cell_type": "code",
   "execution_count": null,
   "metadata": {},
   "outputs": [],
   "source": []
  },
  {
   "cell_type": "code",
   "execution_count": null,
   "metadata": {},
   "outputs": [],
   "source": []
  }
 ],
 "metadata": {
  "kernelspec": {
   "display_name": "Python 3",
   "language": "python",
   "name": "python3"
  },
  "language_info": {
   "codemirror_mode": {
    "name": "ipython",
    "version": 3
   },
   "file_extension": ".py",
   "mimetype": "text/x-python",
   "name": "python",
   "nbconvert_exporter": "python",
   "pygments_lexer": "ipython3",
   "version": "3.8.5"
  }
 },
 "nbformat": 4,
 "nbformat_minor": 4
}
