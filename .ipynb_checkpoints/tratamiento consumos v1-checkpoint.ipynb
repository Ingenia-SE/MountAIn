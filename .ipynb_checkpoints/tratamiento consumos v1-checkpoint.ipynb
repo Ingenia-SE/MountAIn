{
 "cells": [
  {
   "cell_type": "code",
   "execution_count": 8,
   "metadata": {},
   "outputs": [],
   "source": [
    "import pandas as pd\n",
    "import numpy as np\n",
    "from datetime import datetime\n",
    "from matplotlib import pyplot\n",
    " \n",
    "consumos = pd.read_csv('consumosUPM.csv', header=0, squeeze=True)\n",
    "\n",
    "def filtro(recurso):\n",
    "    datos_filtrados = consumos[consumos['Recurso'] == recurso]\n",
    "    datos_filtrados = datos_filtrados[['Campus','NombreCentro','Centro','TipoCentro','FechaInicioLectura','FechaFinLectura','ConsumoTotal']]\n",
    "    datos_filtrados = datos_filtrados[datos_filtrados['ConsumoTotal'] != 0]\n",
    "    datos_filtrados = datos_filtrados.reset_index(drop=True)\n",
    "    defectos =[]\n",
    "    \n",
    "    for i in range(len(datos_filtrados)):\n",
    "        if type(datos_filtrados['FechaInicioLectura'][i]) is str:\n",
    "            try:\n",
    "                datos_filtrados['FechaInicioLectura'][i] = datetime.strptime(datos_filtrados['FechaInicioLectura'][i],'%d/%m/%Y %H:%M').date()\n",
    "            except:\n",
    "                try:\n",
    "                    datos_filtrados['FechaInicioLectura'][i] = datetime.strptime(datos_filtrados['FechaInicioLectura'][i],'%m/%d/%Y %H:%M').date()\n",
    "                except:\n",
    "                    print(\"formato raro -----\"+electricidad['FechaInicioLectura'][i])\n",
    "\n",
    "        else:\n",
    "            print('error')\n",
    "            defectos.append(i)\n",
    "    print(defectos)\n",
    "    datos_filtrados = datos_filtrados.drop(index = defectos)\n",
    "    datos_filtrados = datos_filtrados.reset_index(drop=True)\n",
    "    print('fin de funcion')\n",
    "    return datos_filtrados\n",
    "\n",
    "\n"
   ]
  },
  {
   "cell_type": "code",
   "execution_count": 9,
   "metadata": {},
   "outputs": [
    {
     "name": "stderr",
     "output_type": "stream",
     "text": [
      "<ipython-input-8-d72ade8a413a>:21: SettingWithCopyWarning: \n",
      "A value is trying to be set on a copy of a slice from a DataFrame\n",
      "\n",
      "See the caveats in the documentation: https://pandas.pydata.org/pandas-docs/stable/user_guide/indexing.html#returning-a-view-versus-a-copy\n",
      "  datos_filtrados['FechaInicioLectura'][i] = datetime.strptime(datos_filtrados['FechaInicioLectura'][i],'%m/%d/%Y %H:%M').date()\n",
      "<ipython-input-8-d72ade8a413a>:18: SettingWithCopyWarning: \n",
      "A value is trying to be set on a copy of a slice from a DataFrame\n",
      "\n",
      "See the caveats in the documentation: https://pandas.pydata.org/pandas-docs/stable/user_guide/indexing.html#returning-a-view-versus-a-copy\n",
      "  datos_filtrados['FechaInicioLectura'][i] = datetime.strptime(datos_filtrados['FechaInicioLectura'][i],'%d/%m/%Y %H:%M').date()\n"
     ]
    },
    {
     "name": "stdout",
     "output_type": "stream",
     "text": [
      "error\n",
      "[1876]\n",
      "fin de funcion\n"
     ]
    }
   ],
   "source": [
    "electricidad = filtro(\"Electricidad\")"
   ]
  },
  {
   "cell_type": "code",
   "execution_count": 10,
   "metadata": {},
   "outputs": [
    {
     "name": "stdout",
     "output_type": "stream",
     "text": [
      "Campus                          Ciudad Universitaria\n",
      "NombreCentro          ETSI Caminos Canales y Puertos\n",
      "Centro                                             2\n",
      "TipoCentro                                 Formación\n",
      "FechaInicioLectura                        2017-01-03\n",
      "FechaFinLectura                       3/31/2017 0:00\n",
      "ConsumoTotal                                   22520\n",
      "Name: 1876, dtype: object\n"
     ]
    }
   ],
   "source": [
    "print(electricidad.iloc[1876])"
   ]
  },
  {
   "cell_type": "code",
   "execution_count": 24,
   "metadata": {},
   "outputs": [
    {
     "name": "stdout",
     "output_type": "stream",
     "text": [
      "Campus                          Ciudad Universitaria\n",
      "NombreCentro          ETSI Caminos Canales y Puertos\n",
      "Centro                                             2\n",
      "TipoCentro                                 Formación\n",
      "FechaInicioLectura                               NaN\n",
      "FechaFinLectura                                  NaN\n",
      "ConsumoTotal                                  220124\n",
      "Name: 1876, dtype: object\n"
     ]
    }
   ],
   "source": [
    "agua = filtro(\"Agua\")\n",
    "gas = filtro(\"Gas\")"
   ]
  },
  {
   "cell_type": "code",
   "execution_count": null,
   "metadata": {},
   "outputs": [],
   "source": []
  }
 ],
 "metadata": {
  "kernelspec": {
   "display_name": "Python 3",
   "language": "python",
   "name": "python3"
  },
  "language_info": {
   "codemirror_mode": {
    "name": "ipython",
    "version": 3
   },
   "file_extension": ".py",
   "mimetype": "text/x-python",
   "name": "python",
   "nbconvert_exporter": "python",
   "pygments_lexer": "ipython3",
   "version": "3.8.5"
  }
 },
 "nbformat": 4,
 "nbformat_minor": 4
}
